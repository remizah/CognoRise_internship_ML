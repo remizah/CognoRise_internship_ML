{
  "nbformat": 4,
  "nbformat_minor": 0,
  "metadata": {
    "colab": {
      "provenance": [],
      "authorship_tag": "ABX9TyNRf7hsw8QFbJ/s2pn8ZmE4",
      "include_colab_link": true
    },
    "kernelspec": {
      "name": "python3",
      "display_name": "Python 3"
    },
    "language_info": {
      "name": "python"
    }
  },
  "cells": [
    {
      "cell_type": "markdown",
      "metadata": {
        "id": "view-in-github",
        "colab_type": "text"
      },
      "source": [
        "<a href=\"https://colab.research.google.com/github/remizah/cognisointernship_ML/blob/main/MLcogniso_4_Diabetes_detection.ipynb\" target=\"_parent\"><img src=\"https://colab.research.google.com/assets/colab-badge.svg\" alt=\"Open In Colab\"/></a>"
      ]
    },
    {
      "cell_type": "code",
      "execution_count": 1,
      "metadata": {
        "id": "sjuh7ErXatZx"
      },
      "outputs": [],
      "source": [
        "# Importing necessary libraries\n",
        "import pandas as pd\n",
        "from sklearn.model_selection import train_test_split\n",
        "from sklearn.preprocessing import StandardScaler, OneHotEncoder\n",
        "from sklearn.ensemble import RandomForestClassifier, AdaBoostClassifier\n",
        "from sklearn.neighbors import KNeighborsClassifier\n",
        "from sklearn.tree import DecisionTreeClassifier\n",
        "from sklearn.metrics import accuracy_score, classification_report\n"
      ]
    },
    {
      "cell_type": "code",
      "source": [
        "# Load the dataset\n",
        "data = pd.read_csv('/content/diabetes_prediction_dataset[1].csv')\n"
      ],
      "metadata": {
        "id": "LJU868DYengJ"
      },
      "execution_count": 2,
      "outputs": []
    },
    {
      "cell_type": "code",
      "source": [
        "# Convert categorical features into numerical using one-hot encoding\n",
        "data = pd.get_dummies(data, drop_first=True)\n"
      ],
      "metadata": {
        "id": "t_F41nNDerfp"
      },
      "execution_count": 3,
      "outputs": []
    },
    {
      "cell_type": "code",
      "source": [
        "# Separate features (X) and target variable (y)\n",
        "X = data.drop('diabetes', axis=1)\n",
        "y = data['diabetes']\n"
      ],
      "metadata": {
        "id": "hrIPif2bexpa"
      },
      "execution_count": 4,
      "outputs": []
    },
    {
      "cell_type": "code",
      "source": [
        "# Splitting the dataset into training and testing sets\n",
        "X_train, X_test, y_train, y_test = train_test_split(X, y, test_size=0.2, random_state=42)\n"
      ],
      "metadata": {
        "id": "X-ChhObre2Eo"
      },
      "execution_count": 5,
      "outputs": []
    },
    {
      "cell_type": "code",
      "source": [
        "# Feature scaling\n",
        "scaler = StandardScaler()\n",
        "X_train_scaled = scaler.fit_transform(X_train)\n",
        "X_test_scaled = scaler.transform(X_test)\n"
      ],
      "metadata": {
        "id": "nd0YSkjMe5Fd"
      },
      "execution_count": 6,
      "outputs": []
    },
    {
      "cell_type": "code",
      "source": [
        "# Random Forest Classifier\n",
        "rf = RandomForestClassifier(n_estimators=100, random_state=42)\n",
        "rf.fit(X_train_scaled, y_train)\n",
        "rf_pred = rf.predict(X_test_scaled)\n",
        "rf_accuracy = accuracy_score(y_test, rf_pred)\n",
        "print(\"Random Forest Classifier Accuracy:\", rf_accuracy)\n",
        "print(\"Random Forest Classifier Classification Report:\")\n",
        "print(classification_report(y_test, rf_pred))\n"
      ],
      "metadata": {
        "colab": {
          "base_uri": "https://localhost:8080/"
        },
        "id": "4SI3VJaDe9aJ",
        "outputId": "a9df3c10-ce57-4dee-9b4f-163fb2f6144a"
      },
      "execution_count": 7,
      "outputs": [
        {
          "output_type": "stream",
          "name": "stdout",
          "text": [
            "Random Forest Classifier Accuracy: 0.96995\n",
            "Random Forest Classifier Classification Report:\n",
            "              precision    recall  f1-score   support\n",
            "\n",
            "           0       0.97      1.00      0.98     18292\n",
            "           1       0.95      0.69      0.80      1708\n",
            "\n",
            "    accuracy                           0.97     20000\n",
            "   macro avg       0.96      0.84      0.89     20000\n",
            "weighted avg       0.97      0.97      0.97     20000\n",
            "\n"
          ]
        }
      ]
    },
    {
      "cell_type": "code",
      "source": [
        "# K-Nearest Neighbors (KNN)\n",
        "knn = KNeighborsClassifier()\n",
        "knn.fit(X_train_scaled, y_train)\n",
        "knn_pred = knn.predict(X_test_scaled)\n",
        "knn_accuracy = accuracy_score(y_test, knn_pred)\n",
        "print(\"K-Nearest Neighbors (KNN) Accuracy:\", knn_accuracy)\n",
        "print(\"K-Nearest Neighbors (KNN) Classification Report:\")\n",
        "print(classification_report(y_test, knn_pred))\n"
      ],
      "metadata": {
        "colab": {
          "base_uri": "https://localhost:8080/"
        },
        "id": "Kk8gCIcMfAtE",
        "outputId": "d01c4de2-c64d-4061-dd9e-c033e1c98a69"
      },
      "execution_count": null,
      "outputs": [
        {
          "output_type": "stream",
          "name": "stdout",
          "text": [
            "K-Nearest Neighbors (KNN) Accuracy: 0.96055\n",
            "K-Nearest Neighbors (KNN) Classification Report:\n",
            "              precision    recall  f1-score   support\n",
            "\n",
            "           0       0.96      0.99      0.98     18292\n",
            "           1       0.89      0.61      0.73      1708\n",
            "\n",
            "    accuracy                           0.96     20000\n",
            "   macro avg       0.93      0.80      0.85     20000\n",
            "weighted avg       0.96      0.96      0.96     20000\n",
            "\n"
          ]
        }
      ]
    },
    {
      "cell_type": "code",
      "source": [
        "# AdaBoost Classifier\n",
        "adb = AdaBoostClassifier(n_estimators=100, random_state=42)\n",
        "adb.fit(X_train_scaled, y_train)\n",
        "adb_pred = adb.predict(X_test_scaled)\n",
        "adb_accuracy = accuracy_score(y_test, adb_pred)\n",
        "print(\"AdaBoost Classifier Accuracy:\", adb_accuracy)\n",
        "print(\"AdaBoost Classifier Classification Report:\")\n",
        "print(classification_report(y_test, adb_pred))\n",
        "\n"
      ],
      "metadata": {
        "id": "G65lZGNgfDX8"
      },
      "execution_count": null,
      "outputs": []
    },
    {
      "cell_type": "code",
      "source": [
        "# Decision Tree Classifier\n",
        "dt = DecisionTreeClassifier(random_state=42)\n",
        "dt.fit(X_train_scaled, y_train)\n",
        "dt_pred = dt.predict(X_test_scaled)\n",
        "dt_accuracy = accuracy_score(y_test, dt_pred)\n",
        "print(\"Decision Tree Classifier Accuracy:\", dt_accuracy)\n",
        "print(\"Decision Tree Classifier Classification Report:\")\n",
        "print(classification_report(y_test, dt_pred))"
      ],
      "metadata": {
        "id": "q5YPXBr0fFqd"
      },
      "execution_count": null,
      "outputs": []
    }
  ]
}