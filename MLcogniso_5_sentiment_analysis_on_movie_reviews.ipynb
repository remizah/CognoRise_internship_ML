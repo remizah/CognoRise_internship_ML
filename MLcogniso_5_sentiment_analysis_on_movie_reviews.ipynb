{
  "nbformat": 4,
  "nbformat_minor": 0,
  "metadata": {
    "colab": {
      "provenance": [],
      "authorship_tag": "ABX9TyPrI6c3RDsK2lRNzPUsJiVT",
      "include_colab_link": true
    },
    "kernelspec": {
      "name": "python3",
      "display_name": "Python 3"
    },
    "language_info": {
      "name": "python"
    }
  },
  "cells": [
    {
      "cell_type": "markdown",
      "metadata": {
        "id": "view-in-github",
        "colab_type": "text"
      },
      "source": [
        "<a href=\"https://colab.research.google.com/github/remizah/cognisointernship_ML/blob/main/MLcogniso_5_sentiment_analysis_on_movie_reviews.ipynb\" target=\"_parent\"><img src=\"https://colab.research.google.com/assets/colab-badge.svg\" alt=\"Open In Colab\"/></a>"
      ]
    },
    {
      "cell_type": "code",
      "source": [
        "# Importing necessary libraries\n",
        "import pandas as pd\n",
        "from sklearn.model_selection import train_test_split\n",
        "from sklearn.feature_extraction.text import CountVectorizer, TfidfTransformer\n",
        "from sklearn.preprocessing import LabelEncoder\n",
        "from sklearn.naive_bayes import MultinomialNB\n",
        "from sklearn.ensemble import RandomForestClassifier\n",
        "from sklearn.neighbors import KNeighborsClassifier\n",
        "from xgboost import XGBClassifier\n",
        "from sklearn.linear_model import LogisticRegression\n",
        "from sklearn.tree import DecisionTreeClassifier\n",
        "from sklearn.metrics import accuracy_score, classification_report\n",
        "\n",
        "# Load the dataset\n",
        "try:\n",
        "    data = pd.read_csv('/content/IMDB_Dataset[2].csv')\n",
        "except pd.errors.ParserError as e:\n",
        "    print(\"Error parsing the dataset:\", e)\n",
        "    print(\"Please check the dataset for any anomalies.\")\n",
        "    # Empty DataFrame to proceed with further code\n",
        "    data = pd.DataFrame()\n",
        "\n",
        "if not data.empty:\n",
        "    # Drop any rows with missing values\n",
        "    data = data.dropna()\n",
        "\n",
        "    # Convert sentiment to binary labels (0 for negative, 1 for positive)\n",
        "    label_encoder = LabelEncoder()\n",
        "    data['sentiment'] = label_encoder.fit_transform(data['sentiment'])\n",
        "\n",
        "    # Separate features (X) and target variable (y)\n",
        "    X = data['review']\n",
        "    y = data['sentiment']\n",
        "\n",
        "    # Splitting the dataset into training and testing sets\n",
        "    X_train, X_test, y_train, y_test = train_test_split(X, y, test_size=0.2, random_state=42)\n",
        "\n",
        "    # Vectorizing the text data\n",
        "    vectorizer = CountVectorizer()\n",
        "    X_train_counts = vectorizer.fit_transform(X_train)\n",
        "    X_test_counts = vectorizer.transform(X_test)\n",
        "\n",
        "    # Transforming counts to TF-IDF representation\n",
        "    tfidf_transformer = TfidfTransformer()\n",
        "    X_train_tfidf = tfidf_transformer.fit_transform(X_train_counts)\n",
        "    X_test_tfidf = tfidf_transformer.transform(X_test_counts)\n",
        "\n",
        "    # Naive Bayes Classifier\n",
        "    nb_classifier = MultinomialNB()\n",
        "    nb_classifier.fit(X_train_tfidf, y_train)\n",
        "    nb_pred = nb_classifier.predict(X_test_tfidf)\n",
        "    nb_accuracy = accuracy_score(y_test, nb_pred)\n",
        "    print(\"Naive Bayes Classifier Accuracy:\", nb_accuracy)\n",
        "    print(\"Naive Bayes Classifier Classification Report:\")\n",
        "    print(classification_report(y_test, nb_pred))\n",
        "\n",
        "    # Random Forest Classifier\n",
        "    rf_classifier = RandomForestClassifier(n_estimators=100, random_state=42)\n",
        "    rf_classifier.fit(X_train_tfidf, y_train)\n",
        "    rf_pred = rf_classifier.predict(X_test_tfidf)\n",
        "    rf_accuracy = accuracy_score(y_test, rf_pred)\n",
        "    print(\"Random Forest Classifier Accuracy:\", rf_accuracy)\n",
        "    print(\"Random Forest Classifier Classification Report:\")\n",
        "    print(classification_report(y_test, rf_pred))\n",
        "\n",
        "    # K-Nearest Neighbors (KNN)\n",
        "    knn_classifier = KNeighborsClassifier()\n",
        "    knn_classifier.fit(X_train_tfidf, y_train)\n",
        "    knn_pred = knn_classifier.predict(X_test_tfidf)\n",
        "    knn_accuracy = accuracy_score(y_test, knn_pred)\n",
        "    print(\"K-Nearest Neighbors (KNN) Accuracy:\", knn_accuracy)\n",
        "    print(\"K-Nearest Neighbors (KNN) Classification Report:\")\n",
        "    print(classification_report(y_test, knn_pred))\n",
        "\n",
        "    # XGBoost Classifier\n",
        "    xgb_classifier = XGBClassifier()\n",
        "    xgb_classifier.fit(X_train_tfidf, y_train)\n",
        "    xgb_pred = xgb_classifier.predict(X_test_tfidf)\n",
        "    xgb_accuracy = accuracy_score(y_test, xgb_pred)\n",
        "    print(\"XGBoost Classifier Accuracy:\", xgb_accuracy)\n",
        "    print(\"XGBoost Classifier Classification Report:\")\n",
        "    print(classification_report(y_test, xgb_pred))\n",
        "\n",
        "    # Logistic Regression\n",
        "    lr_classifier = LogisticRegression(max_iter=1000)\n",
        "    lr_classifier.fit(X_train_tfidf, y_train)\n",
        "    lr_pred = lr_classifier.predict(X_test_tfidf)\n",
        "    lr_accuracy = accuracy_score(y_test, lr_pred)\n",
        "    print(\"Logistic Regression Accuracy:\", lr_accuracy)\n",
        "    print(\"Logistic Regression Classification Report:\")\n",
        "    print(classification_report(y_test, lr_pred))\n",
        "\n",
        "    # Decision Tree Classifier\n",
        "    dt_classifier = DecisionTreeClassifier(random_state=42)\n",
        "    dt_classifier.fit(X_train_tfidf, y_train)\n",
        "    dt_pred = dt_classifier.predict(X_test_tfidf)\n",
        "    dt_accuracy = accuracy_score(y_test, dt_pred)\n",
        "    print(\"Decision Tree Classifier Accuracy:\", dt_accuracy)\n",
        "    print(\"Decision Tree Classifier Classification Report:\")\n",
        "    print(classification_report(y_test, dt_pred))\n"
      ],
      "metadata": {
        "colab": {
          "base_uri": "https://localhost:8080/"
        },
        "id": "e-sDosBFp_HR",
        "outputId": "44b62d48-2bba-4556-9042-97f4f2d29c39"
      },
      "execution_count": 1,
      "outputs": [
        {
          "output_type": "stream",
          "name": "stdout",
          "text": [
            "Error parsing the dataset: Error tokenizing data. C error: EOF inside string starting at row 4762\n",
            "Please check the dataset for any anomalies.\n"
          ]
        }
      ]
    }
  ]
}