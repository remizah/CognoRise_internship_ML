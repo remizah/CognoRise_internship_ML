{
  "nbformat": 4,
  "nbformat_minor": 0,
  "metadata": {
    "colab": {
      "provenance": [],
      "authorship_tag": "ABX9TyMbglw+w4nZEtVWHTflO/07",
      "include_colab_link": true
    },
    "kernelspec": {
      "name": "python3",
      "display_name": "Python 3"
    },
    "language_info": {
      "name": "python"
    }
  },
  "cells": [
    {
      "cell_type": "markdown",
      "metadata": {
        "id": "view-in-github",
        "colab_type": "text"
      },
      "source": [
        "<a href=\"https://colab.research.google.com/github/remizah/cognisointernship_ML/blob/main/ML7_cognorise_Digit_recognizer.ipynb\" target=\"_parent\"><img src=\"https://colab.research.google.com/assets/colab-badge.svg\" alt=\"Open In Colab\"/></a>"
      ]
    },
    {
      "cell_type": "code",
      "source": [
        "import pandas as pd\n",
        "import numpy as np\n",
        "from sklearn.model_selection import train_test_split\n",
        "import tensorflow as tf\n",
        "from tensorflow.keras import layers, models\n",
        "\n"
      ],
      "metadata": {
        "id": "OcO5PBqd_yXv"
      },
      "execution_count": 5,
      "outputs": []
    },
    {
      "cell_type": "code",
      "source": [
        "# Load the dataset\n",
        "train_data = pd.read_csv('/content/train[2].csv')\n"
      ],
      "metadata": {
        "id": "0CctWTvrJ0xj"
      },
      "execution_count": 6,
      "outputs": []
    },
    {
      "cell_type": "code",
      "source": [
        "\n",
        "# Separate features (pixels) and labels\n",
        "X = train_data.drop('label', axis=1).values\n",
        "y = train_data['label'].values\n",
        "\n"
      ],
      "metadata": {
        "id": "EFpLgTHPJ5ql"
      },
      "execution_count": 7,
      "outputs": []
    },
    {
      "cell_type": "code",
      "source": [
        "# Normalize pixel values\n",
        "X = X / 255.0\n",
        "\n"
      ],
      "metadata": {
        "id": "sMe-ibpaJ833"
      },
      "execution_count": 8,
      "outputs": []
    },
    {
      "cell_type": "code",
      "source": [
        "# Reshape features to 28x28 images\n",
        "X = X.reshape(-1, 28, 28, 1)\n"
      ],
      "metadata": {
        "id": "l3Ef7axeKVJo"
      },
      "execution_count": 9,
      "outputs": []
    },
    {
      "cell_type": "code",
      "source": [
        "\n",
        "# Split the data into training and testing sets\n",
        "X_train, X_test, y_train, y_test = train_test_split(X, y, test_size=0.2, random_state=42)\n"
      ],
      "metadata": {
        "id": "SFrp6lxOKZTg"
      },
      "execution_count": 10,
      "outputs": []
    },
    {
      "cell_type": "code",
      "source": [
        "\n",
        "# Define the model architecture\n",
        "model = models.Sequential([\n",
        "    layers.Conv2D(32, (3, 3), activation='relu', input_shape=(28, 28, 1)),\n",
        "    layers.MaxPooling2D((2, 2)),\n",
        "    layers.Conv2D(64, (3, 3), activation='relu'),\n",
        "    layers.MaxPooling2D((2, 2)),\n",
        "    layers.Conv2D(64, (3, 3), activation='relu'),\n",
        "    layers.Flatten(),\n",
        "    layers.Dense(64, activation='relu'),\n",
        "    layers.Dense(10, activation='softmax')\n",
        "])\n"
      ],
      "metadata": {
        "id": "CyujoQz3KcSH"
      },
      "execution_count": 11,
      "outputs": []
    },
    {
      "cell_type": "code",
      "source": [
        "\n",
        "# Compile the model\n",
        "model.compile(optimizer='adam',\n",
        "              loss='sparse_categorical_crossentropy',\n",
        "              metrics=['accuracy'])\n"
      ],
      "metadata": {
        "id": "6mQwG8VNKeXY"
      },
      "execution_count": 12,
      "outputs": []
    },
    {
      "cell_type": "code",
      "source": [
        "\n",
        "# Train the model\n",
        "model.fit(X_train, y_train, epochs=5, batch_size=64, validation_split=0.1)\n"
      ],
      "metadata": {
        "colab": {
          "base_uri": "https://localhost:8080/"
        },
        "id": "6vwhnpu1KiGf",
        "outputId": "cd22af18-fb15-4883-d9ef-51eaceffb958"
      },
      "execution_count": 13,
      "outputs": [
        {
          "output_type": "stream",
          "name": "stdout",
          "text": [
            "Epoch 1/5\n",
            "20/20 [==============================] - 3s 66ms/step - loss: nan - accuracy: 0.2010 - val_loss: nan - val_accuracy: 0.0652\n",
            "Epoch 2/5\n",
            "20/20 [==============================] - 1s 48ms/step - loss: nan - accuracy: 0.1078 - val_loss: nan - val_accuracy: 0.0652\n",
            "Epoch 3/5\n",
            "20/20 [==============================] - 1s 53ms/step - loss: nan - accuracy: 0.1078 - val_loss: nan - val_accuracy: 0.0652\n",
            "Epoch 4/5\n",
            "20/20 [==============================] - 1s 54ms/step - loss: nan - accuracy: 0.1078 - val_loss: nan - val_accuracy: 0.0652\n",
            "Epoch 5/5\n",
            "20/20 [==============================] - 1s 48ms/step - loss: nan - accuracy: 0.1078 - val_loss: nan - val_accuracy: 0.0652\n"
          ]
        },
        {
          "output_type": "execute_result",
          "data": {
            "text/plain": [
              "<keras.src.callbacks.History at 0x7d50566b8be0>"
            ]
          },
          "metadata": {},
          "execution_count": 13
        }
      ]
    },
    {
      "cell_type": "code",
      "source": [
        "\n",
        "# Evaluate the model\n",
        "test_loss, test_acc = model.evaluate(X_test, y_test)\n",
        "print(\"Test Accuracy:\", test_acc)\n"
      ],
      "metadata": {
        "colab": {
          "base_uri": "https://localhost:8080/"
        },
        "id": "Zq1foBNzKlyP",
        "outputId": "59a8638a-1815-4029-df06-69c7ec851f1e"
      },
      "execution_count": 14,
      "outputs": [
        {
          "output_type": "stream",
          "name": "stdout",
          "text": [
            "11/11 [==============================] - 0s 9ms/step - loss: nan - accuracy: 0.0872\n",
            "Test Accuracy: 0.0872092992067337\n"
          ]
        }
      ]
    },
    {
      "cell_type": "code",
      "source": [
        "\n",
        "# Save the model\n",
        "model.save('digit_recognition_model.h5')"
      ],
      "metadata": {
        "colab": {
          "base_uri": "https://localhost:8080/"
        },
        "id": "4US7KyZ1Kpf4",
        "outputId": "c78677ab-9e68-4eb7-934f-d37004026dfe"
      },
      "execution_count": 15,
      "outputs": [
        {
          "output_type": "stream",
          "name": "stderr",
          "text": [
            "/usr/local/lib/python3.10/dist-packages/keras/src/engine/training.py:3103: UserWarning: You are saving your model as an HDF5 file via `model.save()`. This file format is considered legacy. We recommend using instead the native Keras format, e.g. `model.save('my_model.keras')`.\n",
            "  saving_api.save_model(\n"
          ]
        }
      ]
    }
  ]
}