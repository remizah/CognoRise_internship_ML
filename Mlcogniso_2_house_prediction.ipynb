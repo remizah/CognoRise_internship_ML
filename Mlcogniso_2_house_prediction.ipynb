{
  "nbformat": 4,
  "nbformat_minor": 0,
  "metadata": {
    "colab": {
      "provenance": [],
      "authorship_tag": "ABX9TyM//vY9BjyaFoshpuoXiVS4",
      "include_colab_link": true
    },
    "kernelspec": {
      "name": "python3",
      "display_name": "Python 3"
    },
    "language_info": {
      "name": "python"
    }
  },
  "cells": [
    {
      "cell_type": "markdown",
      "metadata": {
        "id": "view-in-github",
        "colab_type": "text"
      },
      "source": [
        "<a href=\"https://colab.research.google.com/github/remizah/cognisointernship_ML/blob/main/Mlcogniso_2_house_prediction.ipynb\" target=\"_parent\"><img src=\"https://colab.research.google.com/assets/colab-badge.svg\" alt=\"Open In Colab\"/></a>"
      ]
    },
    {
      "cell_type": "code",
      "source": [
        "# Importing necessary libraries\n",
        "import pandas as pd\n",
        "from sklearn.model_selection import train_test_split\n",
        "from sklearn.preprocessing import StandardScaler, OneHotEncoder\n",
        "from sklearn.linear_model import LinearRegression\n",
        "from sklearn.ensemble import RandomForestRegressor, GradientBoostingRegressor\n",
        "from sklearn.tree import DecisionTreeRegressor\n",
        "from sklearn.metrics import mean_squared_error, r2_score\n"
      ],
      "metadata": {
        "id": "OfNh_viHC0BL"
      },
      "execution_count": null,
      "outputs": []
    },
    {
      "cell_type": "code",
      "source": [
        "# Load the dataset\n",
        "data = pd.read_csv('/content/data[1].csv')\n"
      ],
      "metadata": {
        "id": "aUVd5-32TRds"
      },
      "execution_count": null,
      "outputs": []
    },
    {
      "cell_type": "code",
      "source": [
        "# Drop any irrelevant columns (if necessary)\n",
        "# For example, if 'date' and 'street' are irrelevant for prediction\n",
        "data = data.drop(['date', 'street'], axis=1)\n"
      ],
      "metadata": {
        "id": "7LtmDDsHTb9r"
      },
      "execution_count": null,
      "outputs": []
    },
    {
      "cell_type": "code",
      "source": [
        "# Separate features (X) and target variable (y)\n",
        "X = data.drop('price', axis=1)\n",
        "y = data['price']\n"
      ],
      "metadata": {
        "id": "DRiaMBF0ThOI"
      },
      "execution_count": null,
      "outputs": []
    },
    {
      "cell_type": "code",
      "source": [
        "# One-hot encode categorical columns\n",
        "X_encoded = pd.get_dummies(X, drop_first=True)\n"
      ],
      "metadata": {
        "id": "o1ldXN36TnyB"
      },
      "execution_count": null,
      "outputs": []
    },
    {
      "cell_type": "code",
      "source": [
        "# Splitting the dataset into training and testing sets\n",
        "X_train, X_test, y_train, y_test = train_test_split(X_encoded, y, test_size=0.2, random_state=42)\n"
      ],
      "metadata": {
        "id": "2-KEnAGdTtwX"
      },
      "execution_count": null,
      "outputs": []
    },
    {
      "cell_type": "code",
      "source": [
        "# Feature scaling\n",
        "scaler = StandardScaler()\n",
        "X_train_scaled = scaler.fit_transform(X_train)\n",
        "X_test_scaled = scaler.transform(X_test)\n"
      ],
      "metadata": {
        "id": "EcC35gxyTyVV"
      },
      "execution_count": null,
      "outputs": []
    },
    {
      "cell_type": "code",
      "source": [
        "# Linear Regression\n",
        "lr = LinearRegression()\n",
        "lr.fit(X_train_scaled, y_train)\n",
        "lr_pred = lr.predict(X_test_scaled)\n",
        "lr_rmse = mean_squared_error(y_test, lr_pred, squared=False)\n",
        "lr_r2 = r2_score(y_test, lr_pred)\n",
        "print(\"Linear Regression RMSE:\", lr_rmse)\n",
        "print(\"Linear Regression R^2 Score:\", lr_r2)\n"
      ],
      "metadata": {
        "colab": {
          "base_uri": "https://localhost:8080/"
        },
        "id": "e_ISKIZPT2gq",
        "outputId": "4c05163f-0cbd-4cfb-c775-2f3cb95c72f5"
      },
      "execution_count": null,
      "outputs": [
        {
          "output_type": "stream",
          "name": "stdout",
          "text": [
            "Linear Regression RMSE: 5.519854232723097e+17\n",
            "Linear Regression R^2 Score: -2.9875864189416268e+23\n"
          ]
        }
      ]
    },
    {
      "cell_type": "code",
      "source": [
        "# Random Forest Regression\n",
        "rf = RandomForestRegressor(n_estimators=100, random_state=42)\n",
        "rf.fit(X_train_scaled, y_train)\n",
        "rf_pred = rf.predict(X_test_scaled)\n",
        "rf_rmse = mean_squared_error(y_test, rf_pred, squared=False)\n",
        "rf_r2 = r2_score(y_test, rf_pred)\n",
        "print(\"Random Forest Regression RMSE:\", rf_rmse)\n",
        "print(\"Random Forest Regression R^2 Score:\", rf_r2)\n"
      ],
      "metadata": {
        "colab": {
          "base_uri": "https://localhost:8080/"
        },
        "id": "NPj1Y8xdT6YW",
        "outputId": "7253b3da-1023-4ba4-86cf-efb14e9cff77"
      },
      "execution_count": null,
      "outputs": [
        {
          "output_type": "stream",
          "name": "stdout",
          "text": [
            "Random Forest Regression RMSE: 985937.7916026487\n",
            "Random Forest Regression R^2 Score: 0.046843342275046385\n"
          ]
        }
      ]
    },
    {
      "cell_type": "code",
      "source": [
        "# Decision Tree Regression\n",
        "dt = DecisionTreeRegressor(random_state=42)\n",
        "dt.fit(X_train_scaled, y_train)\n",
        "dt_pred = dt.predict(X_test_scaled)\n",
        "dt_rmse = mean_squared_error(y_test, dt_pred, squared=False)\n",
        "dt_r2 = r2_score(y_test, dt_pred)\n",
        "print(\"Decision Tree Regression RMSE:\", dt_rmse)\n",
        "print(\"Decision Tree Regression R^2 Score:\", dt_r2)\n"
      ],
      "metadata": {
        "colab": {
          "base_uri": "https://localhost:8080/"
        },
        "id": "124WJMyrT8tH",
        "outputId": "24b3d48c-05ee-4966-b97c-19f16df6276d"
      },
      "execution_count": null,
      "outputs": [
        {
          "output_type": "stream",
          "name": "stdout",
          "text": [
            "Decision Tree Regression RMSE: 1003873.4240289691\n",
            "Decision Tree Regression R^2 Score: 0.011849322922782513\n"
          ]
        }
      ]
    },
    {
      "cell_type": "code",
      "source": [
        "# Gradient Boosting Regressor\n",
        "gb = GradientBoostingRegressor(n_estimators=100, learning_rate=0.1, random_state=42)\n",
        "gb.fit(X_train_scaled, y_train)\n",
        "gb_pred = gb.predict(X_test_scaled)\n",
        "gb_rmse = mean_squared_error(y_test, gb_pred, squared=False)\n",
        "gb_r2 = r2_score(y_test, gb_pred)\n",
        "print(\"Gradient Boosting Regression RMSE:\", gb_rmse)\n",
        "print(\"Gradient Boosting Regression R^2 Score:\", gb_r2)\n"
      ],
      "metadata": {
        "colab": {
          "base_uri": "https://localhost:8080/"
        },
        "id": "9tvv7ezWT_YW",
        "outputId": "e6a31f9b-00df-4ae3-b320-7ee6cfe1bbb2"
      },
      "execution_count": null,
      "outputs": [
        {
          "output_type": "stream",
          "name": "stdout",
          "text": [
            "Gradient Boosting Regression RMSE: 980627.4886475691\n",
            "Gradient Boosting Regression R^2 Score: 0.05708317646239991\n"
          ]
        }
      ]
    }
  ]
}